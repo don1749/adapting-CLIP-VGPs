{
 "cells": [
  {
   "cell_type": "code",
   "execution_count": 1,
   "metadata": {},
   "outputs": [],
   "source": [
    "import matplotlib.pyplot as plt\n",
    "import seaborn as sns\n",
    "from sklearn.metrics import confusion_matrix\n",
    "import pandas as pd\n",
    "\n",
    "def visualize_val(test_results):\n",
    "    # val_results = pd.read_csv('/work/adapting-CLIP-VGPs/checkpoints/siamese_test_results.csv')\n",
    "    pred = test_results['3']\n",
    "    gt = test_results['4']\n",
    "\n",
    "    # Replace actual_labels and predicted_labels with your own data\n",
    "    cm = confusion_matrix(gt, pred)\n",
    "\n",
    "    # Define class labels\n",
    "    class_labels = ['Negative', 'Positive']\n",
    "\n",
    "    # Create a heatmap of the confusion matrix\n",
    "    plt.figure(figsize=(8, 6))\n",
    "    sns.set(font_scale=1.2)  # Adjust font size\n",
    "    sns.heatmap(cm, annot=True, fmt='d', cmap='Blues', xticklabels=class_labels, yticklabels=class_labels, cbar=False)\n",
    "\n",
    "    plt.xlabel('Predicted')\n",
    "    plt.ylabel('Actual')\n",
    "    plt.title('Confusion Matrix')\n",
    "    plt.show()\n",
    "\n",
    "    from sklearn.metrics import precision_score, recall_score, f1_score\n",
    "\n",
    "    # Calculate precision\n",
    "    precision = precision_score(gt, pred)\n",
    "\n",
    "    # Calculate recall\n",
    "    recall = recall_score(gt, pred)\n",
    "\n",
    "    # Calculate F1 score\n",
    "    f1 = f1_score(gt, pred)\n",
    "\n",
    "    # Calculate accuracy\n",
    "    acc = sum(x==y for x,y in zip(gt,pred))/len(gt)\n",
    "\n",
    "    print(f'Accuracy: {acc}')\n",
    "    print(f'Precision: {precision}')\n",
    "    print(f'Recall: {recall}')\n",
    "    print(f'F1 Score: {f1}')"
   ]
  },
  {
   "cell_type": "code",
   "execution_count": null,
   "metadata": {},
   "outputs": [],
   "source": [
    "test_results = pd.read_csv('/work/adapting-CLIP-VGPs/checkpoints/heatmap only/21_checkpoint4.csv')\n",
    "visualize_val(test_results)\n"
   ]
  }
 ],
 "metadata": {
  "kernelspec": {
   "display_name": "Python 3",
   "language": "python",
   "name": "python3"
  },
  "language_info": {
   "codemirror_mode": {
    "name": "ipython",
    "version": 3
   },
   "file_extension": ".py",
   "mimetype": "text/x-python",
   "name": "python",
   "nbconvert_exporter": "python",
   "pygments_lexer": "ipython3",
   "version": "3.6.9"
  }
 },
 "nbformat": 4,
 "nbformat_minor": 2
}
