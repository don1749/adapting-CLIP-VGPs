{
 "cells": [
  {
   "cell_type": "code",
   "execution_count": 1,
   "metadata": {},
   "outputs": [
    {
     "name": "stdout",
     "output_type": "stream",
     "text": [
      "/work/adapting-CLIP-VGPs\n"
     ]
    }
   ],
   "source": [
    "%cd /work/adapting-CLIP-VGPs/\n",
    "import torch\n",
    "from tqdm import tqdm\n",
    "from collections import OrderedDict\n",
    "\n",
    "\n",
    "def val(model, heatmap_loader, checkpoint_path, output_type='sigmoid'):\n",
    "    checkpoint = torch.load(checkpoint_path, map_location=torch.device('cpu'))\n",
    "    GPU = 2\n",
    "    new_state_dict = OrderedDict()\n",
    "    for k, v in checkpoint['model_state_dict'].items():\n",
    "        prefix = 'module.'\n",
    "        name = k[len(prefix):]  # remove `module.` prefix\n",
    "        new_state_dict[name] = v\n",
    "    model.load_state_dict(new_state_dict)\n",
    "    model.to(GPU)\n",
    "    model.eval()\n",
    "\n",
    "    test_results = []\n",
    "\n",
    "    with torch.no_grad():\n",
    "        for batch in tqdm(heatmap_loader):\n",
    "            image_paths = batch['img_idx']\n",
    "            phrase_pairs = [list(phrase_pair) for phrase_pair in zip(batch['phrases'][0],batch['phrases'][1])]\n",
    "            left_text_ft = batch['left_text_emb']\n",
    "            right_text_ft = batch['right_text_emb']\n",
    "            left_heatmaps = batch['left_heatmap']\n",
    "            right_heatmaps = batch['right_heatmap']\n",
    "            labels = batch['label']\n",
    "            \n",
    "            left_heatmaps = left_heatmaps.unsqueeze(1).to(GPU)\n",
    "            right_heatmaps = right_heatmaps.unsqueeze(1).to(GPU)\n",
    "            left_text_ft = left_text_ft.squeeze(1).float().to(GPU)\n",
    "            right_text_ft = right_text_ft.squeeze(1).float().to(GPU)\n",
    "            label_tensor = labels.float().unsqueeze(1).to(GPU)\n",
    "            \n",
    "            outputs = model(left_heatmaps, right_heatmaps, left_text_ft, right_text_ft)\n",
    "            # loss = criterion(outputs, label_tensor)\n",
    "            if output_type == 'sigmoid':\n",
    "                preds = (outputs > 0.5).float()\n",
    "            elif output_type == 'softmax':\n",
    "                _, preds = outputs.max(dim=1)\n",
    "                preds = preds.unsqueeze(1)\n",
    "            for i in range(len(image_paths)):\n",
    "                test_results.append([image_paths[i], phrase_pairs[i], outputs[i].item(), preds[i].item(), labels[i].item()])      \n",
    "    return test_results       "
   ]
  },
  {
   "cell_type": "code",
   "execution_count": 2,
   "metadata": {},
   "outputs": [],
   "source": [
    "import matplotlib.pyplot as plt\n",
    "import seaborn as sns\n",
    "from sklearn.metrics import confusion_matrix\n",
    "import pandas as pd\n",
    "\n",
    "def visualize_val(test_results):\n",
    "    # val_results = pd.read_csv('/work/adapting-CLIP-VGPs/checkpoints/siamese_test_results.csv')\n",
    "    pred = [row[3] for row in test_results]\n",
    "    gt = [row[4] for row in test_results]\n",
    "\n",
    "    # Replace actual_labels and predicted_labels with your own data\n",
    "    cm = confusion_matrix(gt, pred)\n",
    "\n",
    "    # Define class labels\n",
    "    class_labels = ['Negative', 'Positive']\n",
    "\n",
    "    # Create a heatmap of the confusion matrix\n",
    "    plt.figure(figsize=(8, 6))\n",
    "    sns.set(font_scale=1.2)  # Adjust font size\n",
    "    sns.heatmap(cm, annot=True, fmt='d', cmap='Blues', xticklabels=class_labels, yticklabels=class_labels, cbar=False)\n",
    "\n",
    "    plt.xlabel('Predicted')\n",
    "    plt.ylabel('Actual')\n",
    "    plt.title('Confusion Matrix')\n",
    "    plt.show()\n",
    "\n",
    "    from sklearn.metrics import precision_score, recall_score, f1_score\n",
    "\n",
    "    # Calculate precision\n",
    "    precision = precision_score(gt, pred)\n",
    "\n",
    "    # Calculate recall\n",
    "    recall = recall_score(gt, pred)\n",
    "\n",
    "    # Calculate F1 score\n",
    "    f1 = f1_score(gt, pred)\n",
    "\n",
    "    # Calculate accuracy\n",
    "    acc = sum(x==y for x,y in zip(gt,pred))/len(gt)\n",
    "\n",
    "    print(f'Accuracy: {acc}')\n",
    "    print(f'Precision: {precision}')\n",
    "    print(f'Recall: {recall}')\n",
    "    print(f'F1 Score: {f1}')"
   ]
  },
  {
   "cell_type": "code",
   "execution_count": 3,
   "metadata": {},
   "outputs": [],
   "source": [
    "from utils.heatmap_data import VGPsHeatmapsDataset\n",
    "from torch.utils.data import DataLoader\n",
    "\n",
    "heatmap_dataset = VGPsHeatmapsDataset(split=\"test\")\n",
    "batch_size = 100\n",
    "\n",
    "heatmap_loader = DataLoader(\n",
    "    dataset=heatmap_dataset,\n",
    "    batch_size=batch_size,\n",
    "    shuffle=False,\n",
    "    num_workers=4,\n",
    "    pin_memory=True\n",
    ")"
   ]
  },
  {
   "cell_type": "code",
   "execution_count": 4,
   "metadata": {},
   "outputs": [],
   "source": [
    "from models.text_heatmap_gate import TextHeatmapGatedClassifier\n",
    "model = TextHeatmapGatedClassifier(heatmap_only=True, use_dropout=True)\n",
    "checkpoint_path = '/work/adapting-CLIP-VGPs/checkpoints/text+heatmap2/14_checkpoint3.pt'"
   ]
  },
  {
   "cell_type": "code",
   "execution_count": 5,
   "metadata": {},
   "outputs": [
    {
     "name": "stderr",
     "output_type": "stream",
     "text": [
      "  0%|          | 0/813 [00:00<?, ?it/s]/usr/local/lib/python3.6/dist-packages/torch/nn/functional.py:718: UserWarning: Named tensors and all their associated APIs are an experimental feature and subject to change. Please do not use them for anything important until they are released as stable. (Triggered internally at  /pytorch/c10/core/TensorImpl.h:1156.)\n",
      "  return torch.max_pool2d(input, kernel_size, stride, padding, dilation, ceil_mode)\n",
      "100%|██████████| 813/813 [05:58<00:00,  2.27it/s]\n"
     ]
    }
   ],
   "source": [
    "test_results = val(model, heatmap_loader,checkpoint_path)"
   ]
  },
  {
   "cell_type": "code",
   "execution_count": 6,
   "metadata": {},
   "outputs": [
    {
     "data": {
      "image/png": "[encoded data removed]",
      "text/plain": [
       "<Figure size 576x432 with 1 Axes>"
      ]
     },
     "metadata": {
      "needs_background": "light"
     },
     "output_type": "display_data"
    },
    {
     "name": "stdout",
     "output_type": "stream",
     "text": [
      "Accuracy: 0.8821184720428124\n",
      "Precision: 0.5743953090642561\n",
      "Recall: 0.43537037037037035\n",
      "F1 Score: 0.49531233540503533\n"
     ]
    }
   ],
   "source": [
    "visualize_val(test_results)"
   ]
  },
  {
   "cell_type": "code",
   "execution_count": 28,
   "metadata": {},
   "outputs": [],
   "source": [
    "model = TextHeatmapSigmoidClassifier(heatmap_only=False, gating=True, use_dropout=True)\n",
    "checkpoint_path = '/work/adapting-CLIP-VGPs/checkpoints/heatmap only/06_checkpoint5.pt'"
   ]
  },
  {
   "cell_type": "code",
   "execution_count": 29,
   "metadata": {},
   "outputs": [
    {
     "name": "stderr",
     "output_type": "stream",
     "text": [
      " 74%|███████▍  | 600/813 [04:16<01:04,  3.30it/s]"
     ]
    }
   ],
   "source": [
    "test_results = val(model, heatmap_loader,checkpoint_path)"
   ]
  },
  {
   "cell_type": "code",
   "execution_count": null,
   "metadata": {},
   "outputs": [],
   "source": [
    "visualize_val(test_results)"
   ]
  }
 ],
 "metadata": {
  "kernelspec": {
   "display_name": "Python 3",
   "language": "python",
   "name": "python3"
  },
  "language_info": {
   "codemirror_mode": {
    "name": "ipython",
    "version": 3
   },
   "file_extension": ".py",
   "mimetype": "text/x-python",
   "name": "python",
   "nbconvert_exporter": "python",
   "pygments_lexer": "ipython3",
   "version": "3.6.9"
  }
 },
 "nbformat": 4,
 "nbformat_minor": 2
}
